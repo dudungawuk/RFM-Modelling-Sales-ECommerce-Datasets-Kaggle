{
 "cells": [
  {
   "cell_type": "markdown",
   "id": "1cadc039-3549-4529-88d4-e275a213f35a",
   "metadata": {},
   "source": [
    "### Output yang Diharapkan:\n",
    "\n",
    "- Dashboard visualisasi hasil RFM dan segmentasi pelanggan.\n",
    "- Laporan analisis dengan insight utama dan rekomendasi strategis.\n",
    "- Prototipe model rekomendasi beserta evaluasi akurasi."
   ]
  },
  {
   "cell_type": "code",
   "execution_count": 2,
   "id": "b72ca85d-51ca-43ab-9c3b-f9071c5121ab",
   "metadata": {},
   "outputs": [],
   "source": [
    "import pandas as pd\n",
    "import seaborn as sns\n",
    "import numpy as np\n",
    "import matplotlib.pyplot as plt"
   ]
  },
  {
   "cell_type": "code",
   "execution_count": null,
   "id": "c1c38219-6d14-4d81-ac81-347c9c7ff5a8",
   "metadata": {},
   "outputs": [],
   "source": [
    "df = pd.read_excel(\"Online Retail.xlsx\")\n",
    "df.head()"
   ]
  },
  {
   "cell_type": "code",
   "execution_count": null,
   "id": "c2088f2e-4106-4664-ad52-c5df50034075",
   "metadata": {},
   "outputs": [],
   "source": [
    "df.shape"
   ]
  },
  {
   "cell_type": "code",
   "execution_count": null,
   "id": "42720eea-110e-4b86-8e78-9cac3f53b135",
   "metadata": {},
   "outputs": [],
   "source": [
    "df.columns"
   ]
  },
  {
   "cell_type": "code",
   "execution_count": null,
   "id": "ae29ec8c-ddfb-45e1-8bad-ac791d65ed1a",
   "metadata": {},
   "outputs": [],
   "source": [
    "df.isna().sum()"
   ]
  },
  {
   "cell_type": "code",
   "execution_count": null,
   "id": "addff385-8361-4540-a6a0-8810333ab66d",
   "metadata": {},
   "outputs": [],
   "source": [
    "df.duplicated().sum()"
   ]
  },
  {
   "cell_type": "code",
   "execution_count": null,
   "id": "0077295f-819d-47bf-9c54-184d43f7c648",
   "metadata": {},
   "outputs": [],
   "source": [
    "df[df.Description.isna()]"
   ]
  },
  {
   "cell_type": "code",
   "execution_count": null,
   "id": "5866557b-7ef1-4e80-ad35-dbb2f02c9c01",
   "metadata": {},
   "outputs": [],
   "source": [
    "df = df.dropna()"
   ]
  },
  {
   "cell_type": "code",
   "execution_count": null,
   "id": "1e59a085-5199-468b-8f53-f823fba50a2b",
   "metadata": {},
   "outputs": [],
   "source": [
    "df.shape"
   ]
  },
  {
   "cell_type": "code",
   "execution_count": null,
   "id": "cc477e7f-fbb1-45e7-88b5-91fd01ab309e",
   "metadata": {},
   "outputs": [],
   "source": [
    "df.isna().sum()"
   ]
  },
  {
   "cell_type": "code",
   "execution_count": null,
   "id": "21e0ea53-6a37-4b29-b6e8-171d49077def",
   "metadata": {},
   "outputs": [],
   "source": [
    "df[df[\"Quantity\"] <0]"
   ]
  },
  {
   "cell_type": "code",
   "execution_count": null,
   "id": "8a8a04fe-3220-44ca-90e6-83bb6a2af03e",
   "metadata": {},
   "outputs": [],
   "source": [
    "df[\"Total_Price\"] = df[\"Quantity\"] * df[\"UnitPrice\"]"
   ]
  },
  {
   "cell_type": "code",
   "execution_count": null,
   "id": "66a641d7-878e-4977-9125-0e52e3e3915d",
   "metadata": {},
   "outputs": [],
   "source": [
    "df.head()"
   ]
  },
  {
   "cell_type": "code",
   "execution_count": null,
   "id": "7b2f3c32-df8c-4d02-aaa0-e2e9d06da06d",
   "metadata": {},
   "outputs": [],
   "source": [
    "df[\"StockCode\"].unique().shape"
   ]
  },
  {
   "cell_type": "code",
   "execution_count": null,
   "id": "43bbd41c-e9c8-4124-805a-b103d50f1f38",
   "metadata": {},
   "outputs": [],
   "source": [
    "df.shape"
   ]
  },
  {
   "cell_type": "code",
   "execution_count": null,
   "id": "2a5e9c92-b116-482e-8c52-545400d905e7",
   "metadata": {},
   "outputs": [],
   "source": [
    "df.describe()"
   ]
  },
  {
   "cell_type": "code",
   "execution_count": null,
   "id": "598b9fd7-e4ab-4fb4-a9aa-fc4ba970e222",
   "metadata": {},
   "outputs": [],
   "source": [
    "df.info()"
   ]
  },
  {
   "cell_type": "code",
   "execution_count": null,
   "id": "b01da3cd-ee5d-4e14-91f6-a156b3102e92",
   "metadata": {},
   "outputs": [],
   "source": [
    "plt.hist(df['Total_Price'])\n",
    "plt.show()\n"
   ]
  },
  {
   "cell_type": "code",
   "execution_count": null,
   "id": "fadd052c-7329-4976-9687-1fa6f5c289cd",
   "metadata": {},
   "outputs": [],
   "source": [
    "reference_date = pd.to_datetime(\"2011-12-11\")"
   ]
  },
  {
   "cell_type": "code",
   "execution_count": null,
   "id": "cf4a23c5-d560-4ece-bfbc-5855358297ed",
   "metadata": {},
   "outputs": [],
   "source": [
    "df[\"Recency\"] = (reference_date - df[\"InvoiceDate\"]).dt.days"
   ]
  },
  {
   "cell_type": "code",
   "execution_count": null,
   "id": "f309640d-ae07-4d5f-9677-f9c260237de5",
   "metadata": {},
   "outputs": [],
   "source": [
    "df.head()"
   ]
  },
  {
   "cell_type": "code",
   "execution_count": null,
   "id": "7367cd19-ede5-40da-af8a-284a29adf46c",
   "metadata": {},
   "outputs": [],
   "source": [
    "df_recency = df.groupby(\"CustomerID\")[\"Recency\"].min().reset_index()"
   ]
  },
  {
   "cell_type": "code",
   "execution_count": null,
   "id": "57938d00-ff13-4e5a-bfa1-2894ca72e02c",
   "metadata": {},
   "outputs": [],
   "source": [
    "df_recency"
   ]
  },
  {
   "cell_type": "code",
   "execution_count": null,
   "id": "35b14807-c49a-4547-868a-03ee4d46861f",
   "metadata": {},
   "outputs": [],
   "source": [
    "df.CustomerID.unique().shape"
   ]
  },
  {
   "cell_type": "markdown",
   "id": "9a940603-98f9-4746-adb2-83fe804bd0e6",
   "metadata": {},
   "source": [
    "### Frequency Count\n",
    "memisahkan frekuensi pembelian dengan mengurangi data yang memiliki return value "
   ]
  },
  {
   "cell_type": "code",
   "execution_count": null,
   "id": "08b07769-b6c1-4db4-98eb-2d4299d7ead4",
   "metadata": {},
   "outputs": [],
   "source": [
    "df_quantity = df.groupby(\"CustomerID\")[\"Quantity\"].sum().reset_index()\n",
    "df_quantity[df_quantity[\"Quantity\"] < 0]"
   ]
  },
  {
   "cell_type": "code",
   "execution_count": null,
   "id": "9c87dcd6-7135-4f45-96e1-b152c93633ff",
   "metadata": {},
   "outputs": [],
   "source": [
    "customer_invoice = df.groupby([\"CustomerID\"])[\"InvoiceNo\"].unique().reset_index()"
   ]
  },
  {
   "cell_type": "code",
   "execution_count": null,
   "id": "d6e05c81-632b-4f9e-892d-ea08a85dfd97",
   "metadata": {},
   "outputs": [],
   "source": [
    "customer_invoice"
   ]
  },
  {
   "cell_type": "code",
   "execution_count": null,
   "id": "69bda02c-301e-4ab2-87c5-b2c36d849409",
   "metadata": {},
   "outputs": [],
   "source": [
    "customer_dict = {}\n",
    "\n",
    "for idx,row in customer_invoice.iterrows():\n",
    "    customer_id = row[\"CustomerID\"]\n",
    "    invoices = row[\"InvoiceNo\"]\n",
    "\n",
    "    if customer_id not in customer_dict:\n",
    "        customer_dict[customer_id] = 0\n",
    "    for invoice in invoices:\n",
    "        if \"C\" in str(invoice):\n",
    "            customer_dict[customer_id] -= 1\n",
    "        else:\n",
    "            customer_dict[customer_id] += 1"
   ]
  },
  {
   "cell_type": "code",
   "execution_count": null,
   "id": "1cb79378-e7d7-44a7-8ce1-23ffd1b51415",
   "metadata": {},
   "outputs": [],
   "source": [
    "df_frequency = pd.DataFrame(list(customer_dict.items()), columns=[\"CustomerID\", \"Frequency\"])\n",
    "df_frequency.describe()"
   ]
  },
  {
   "cell_type": "code",
   "execution_count": null,
   "id": "a0ab23e7-6624-4fe7-810d-821b5f4bc3b7",
   "metadata": {},
   "outputs": [],
   "source": [
    "df_monetary = df.groupby(\"CustomerID\")[\"Total_Price\"].sum()\n",
    "df_monetary.describe()"
   ]
  },
  {
   "cell_type": "code",
   "execution_count": null,
   "id": "1f53311d-df57-4e7a-9c04-85bd733e6ccd",
   "metadata": {},
   "outputs": [],
   "source": [
    "df_rfm = pd.merge(df_recency,df_frequency, on=\"CustomerID\")\n",
    "df_rfm = pd.merge(df_rfm,df_monetary, on=\"CustomerID\")\n",
    "df_rfm.rename(columns={\"Total_Price\":\"Monetary\"},inplace=True)"
   ]
  },
  {
   "cell_type": "code",
   "execution_count": null,
   "id": "7e735493-065e-4375-be4a-9e2f973caaa5",
   "metadata": {},
   "outputs": [],
   "source": [
    "df_rfm[df_rfm[\"Monetary\"] <0]"
   ]
  },
  {
   "cell_type": "code",
   "execution_count": null,
   "id": "97c73358-8ca6-4cbe-8190-7dcbb897d29b",
   "metadata": {},
   "outputs": [],
   "source": [
    "from sklearn.preprocessing import StandardScaler\n",
    "scaler = StandardScaler()\n",
    "df_rfm_standard = scaler.fit_transform(df_rfm[[\"Recency\",\"Frequency\",\"Monetary\"]])\n",
    "df_rfm_standard"
   ]
  },
  {
   "cell_type": "code",
   "execution_count": null,
   "id": "369b6d55-6f9f-44b2-9657-40a23607bb98",
   "metadata": {},
   "outputs": [],
   "source": [
    "from sklearn.cluster import KMeans\n",
    "\n",
    "wcss = []\n",
    "for i in range(1, 11):  # Coba K = 1 sampai 10\n",
    "    kmeans = KMeans(n_clusters=i, init='k-means++', max_iter=300, n_init=10, random_state=42)\n",
    "    kmeans.fit(df_rfm_standard)\n",
    "    wcss.append(kmeans.inertia_)\n",
    "\n",
    "plt.plot(range(1, 11), wcss)\n",
    "plt.title('Metode Elbow')\n",
    "plt.xlabel('Jumlah Cluster')\n",
    "plt.ylabel('WCSS')\n",
    "plt.show()"
   ]
  },
  {
   "cell_type": "code",
   "execution_count": null,
   "id": "22c71e3e-1cc1-49e7-aa6a-59a046b212ad",
   "metadata": {},
   "outputs": [],
   "source": [
    "# Menjalankan K-Means dengan K yang optimal\n",
    "kmeans = KMeans(n_clusters=4, init='k-means++', max_iter=300, n_init=10, random_state=42)\n",
    "kmeans.fit(df_rfm_standard)\n",
    "\n",
    "# Menambahkan label cluster ke DataFrame\n",
    "df_rfm['Cluster'] = kmeans.labels_\n",
    "\n",
    "df_rfm[[\"Cluster\",\"Recency\",\"Frequency\",\"Monetary\"]]\n"
   ]
  },
  {
   "cell_type": "code",
   "execution_count": null,
   "id": "6dbec6c0-59b0-446c-977a-a49502e92da8",
   "metadata": {},
   "outputs": [],
   "source": [
    "df_rfm[df_rfm[\"Cluster\"] == 0].sample(10)"
   ]
  },
  {
   "cell_type": "code",
   "execution_count": null,
   "id": "d5ba23f8-7ef2-43f6-b0d0-5f26048cc234",
   "metadata": {},
   "outputs": [],
   "source": [
    "df_rfm[df_rfm[\"Cluster\"] == 1]"
   ]
  },
  {
   "cell_type": "code",
   "execution_count": null,
   "id": "1c986e64-d520-4222-a244-f3e5078f147c",
   "metadata": {},
   "outputs": [],
   "source": [
    "df_rfm[df_rfm[\"Cluster\"] == 3].sample(10)"
   ]
  },
  {
   "cell_type": "code",
   "execution_count": null,
   "id": "30320337-0cd0-4af7-9a1c-ec73978020de",
   "metadata": {},
   "outputs": [],
   "source": [
    "df_rfm[df_rfm[\"Cluster\"] == 2].sample(10)"
   ]
  },
  {
   "cell_type": "code",
   "execution_count": null,
   "id": "bb5cf769-d158-43e2-b298-c6912529cd9a",
   "metadata": {},
   "outputs": [],
   "source": [
    "df_rfm[df_rfm[\"Monetary\"] <0].sample(10)"
   ]
  },
  {
   "cell_type": "code",
   "execution_count": null,
   "id": "8ccc746b-224d-4359-8b1c-1d62303ac56a",
   "metadata": {},
   "outputs": [],
   "source": []
  }
 ],
 "metadata": {
  "kernelspec": {
   "display_name": "Python 3 (ipykernel)",
   "language": "python",
   "name": "python3"
  },
  "language_info": {
   "codemirror_mode": {
    "name": "ipython",
    "version": 3
   },
   "file_extension": ".py",
   "mimetype": "text/x-python",
   "name": "python",
   "nbconvert_exporter": "python",
   "pygments_lexer": "ipython3",
   "version": "3.12.4"
  }
 },
 "nbformat": 4,
 "nbformat_minor": 5
}
